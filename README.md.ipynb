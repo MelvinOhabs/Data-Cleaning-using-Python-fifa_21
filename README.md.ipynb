{
 "cells": [
  {
   "cell_type": "markdown",
   "id": "74611a7b",
   "metadata": {},
   "source": [
    "# FIFA_21 DATA CLEANING\n",
    "\n",
    "\n",
    "## by Melvin Ohabuike"
   ]
  },
  {
   "cell_type": "markdown",
   "id": "6e254a42",
   "metadata": {},
   "source": [
    "I participated in the data cleaning challenge organised by Promise Chinonso and Victor Somadina. The Challenge was made for Data\n",
    "\n",
    "Analyst for all skill levels - beginners, intermediates, and even experts - to create an impressive project that can be shared\n",
    "\n",
    "with recruiters as part of their portfolio.\n",
    "\n",
    "Overall, completing this data cleaning challenge is a great way for we data analysts to build their skills, gain confidence, and \n",
    "\n",
    "demonstrate our expertise in data analysis.\n",
    "\n",
    "The project involved analyzing a FIFA21 dataset scraped from the sofifa website. The data was quite disorganized and untidy. The \n",
    "\n",
    "project's objective was to tidy up the data and prepare it for future modeling.\n"
   ]
  },
  {
   "cell_type": "code",
   "execution_count": null,
   "id": "3da205db",
   "metadata": {},
   "outputs": [],
   "source": []
  }
 ],
 "metadata": {
  "kernelspec": {
   "display_name": "Python 3 (ipykernel)",
   "language": "python",
   "name": "python3"
  },
  "language_info": {
   "codemirror_mode": {
    "name": "ipython",
    "version": 3
   },
   "file_extension": ".py",
   "mimetype": "text/x-python",
   "name": "python",
   "nbconvert_exporter": "python",
   "pygments_lexer": "ipython3",
   "version": "3.9.12"
  }
 },
 "nbformat": 4,
 "nbformat_minor": 5
}
